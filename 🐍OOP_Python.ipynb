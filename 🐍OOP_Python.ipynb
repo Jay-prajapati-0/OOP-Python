{
 "cells": [
  {
   "cell_type": "markdown",
   "id": "b31f5364",
   "metadata": {},
   "source": [
    "## ➡️OOP - Object Oriented Programming"
   ]
  },
  {
   "cell_type": "markdown",
   "id": "e906195c",
   "metadata": {},
   "source": [
    "- Object Oriented means directed towards objects in other words, it means functionally directed towards modelling objects.This is one of the many techniques used for modelling Complex systems by describing a collection of interacting objects via their data and behavior."
   ]
  },
  {
   "cell_type": "markdown",
   "id": "c003eb0f",
   "metadata": {},
   "source": [
    "- Python, an Object Oriented programming (OOP), is a way of programming that focuses\n",
    "on using objects and classes to design and build applications.. Major pillars of Object\n",
    "Oriented Programming (OOP) are Inheritance, Polymorphism, Abstraction, ad\n",
    "Encapsulation."
   ]
  },
  {
   "cell_type": "markdown",
   "id": "48b4b4ce",
   "metadata": {},
   "source": [
    "### ➡️Concepts to cover\n",
    "1. Class\n",
    "2. Obejct\n",
    "3. Data Abstaraction\n",
    "4. Encapsulation\n",
    "5. Inhertance\n",
    "6. Polymorphism\n",
    "7. Method"
   ]
  },
  {
   "cell_type": "markdown",
   "id": "1d4d7758",
   "metadata": {},
   "source": [
    "## Class"
   ]
  },
  {
   "cell_type": "code",
   "execution_count": 1,
   "id": "adea48c2",
   "metadata": {},
   "outputs": [],
   "source": [
    "class Dog:\n",
    "    pass"
   ]
  },
  {
   "cell_type": "markdown",
   "id": "9f578600",
   "metadata": {},
   "source": [
    "## Object"
   ]
  },
  {
   "cell_type": "code",
   "execution_count": 2,
   "id": "9226c60a",
   "metadata": {},
   "outputs": [
    {
     "name": "stdout",
     "output_type": "stream",
     "text": [
      "Bob 9\n"
     ]
    }
   ],
   "source": [
    "class Dog:\n",
    "    def __init__(self, name, age):\n",
    "        self.name = name\n",
    "        self.age = age\n",
    "        \n",
    "    # Instance method\n",
    "    def display(self):\n",
    "        print(self.name, self.age)\n",
    "\n",
    "bob = Dog(\"Bob\", 9)\n",
    "bob.display()"
   ]
  },
  {
   "cell_type": "markdown",
   "id": "1477fe1d",
   "metadata": {},
   "source": [
    "## Method"
   ]
  },
  {
   "cell_type": "markdown",
   "id": "d3332bf5",
   "metadata": {},
   "source": [
    "- display() is a method used in Dog class"
   ]
  },
  {
   "cell_type": "markdown",
   "id": "9d3e1c54",
   "metadata": {},
   "source": [
    "## Data Abstaraction"
   ]
  },
  {
   "cell_type": "code",
   "execution_count": 3,
   "id": "1874a2fe",
   "metadata": {},
   "outputs": [],
   "source": [
    "class BankAccount:\n",
    "    def __init__(self, balance):\n",
    "        self.balance = balance\n",
    "    \n",
    "    def deposit(self, amount):\n",
    "        self.balance += amount\n",
    "        \n",
    "    def withdraw(self, amount):\n",
    "        if amount > self.balance:\n",
    "            print(\"Insufficient funds\")\n",
    "        else:\n",
    "            self.balance -= amount\n",
    "    \n",
    "    def get_balance(self):\n",
    "        return self.balance\n",
    "\n",
    "### methods: deposit, withdraw, and get_balance.\n",
    "### These methods abstract away the details of how the bank account's \n",
    "### balance is stored and manipulated, allowing us to use the bank account \n",
    "### without needing to know the implementation details."
   ]
  },
  {
   "cell_type": "code",
   "execution_count": 4,
   "id": "2d9adf54",
   "metadata": {},
   "outputs": [
    {
     "name": "stdout",
     "output_type": "stream",
     "text": [
      "1300\n"
     ]
    }
   ],
   "source": [
    "account = BankAccount(1000)\n",
    "account.deposit(500)\n",
    "account.withdraw(200)\n",
    "print(account.get_balance())\n"
   ]
  },
  {
   "cell_type": "markdown",
   "id": "be6399c5",
   "metadata": {},
   "source": [
    "This would output 1300, which is the balance of the bank account after the deposit and withdrawal. We don't need to know how the balance is stored or manipulated; we can simply use the methods provided by the BankAccount class to interact with it."
   ]
  },
  {
   "cell_type": "markdown",
   "id": "384b6918",
   "metadata": {},
   "source": [
    "## Encapsulation"
   ]
  },
  {
   "cell_type": "markdown",
   "id": "bbe2a3e9",
   "metadata": {},
   "source": [
    "It describes the idea of wrapping data and the methods that work on data within one unit."
   ]
  },
  {
   "cell_type": "code",
   "execution_count": 6,
   "id": "a4d5ff3b",
   "metadata": {},
   "outputs": [],
   "source": [
    "class Car:\n",
    "    # Attributes\n",
    "    def __init__(self, make, model, year):\n",
    "        self.__make = make\n",
    "        self.__model = model\n",
    "        self.__year = year\n",
    "    \n",
    "    # Methods\n",
    "    def get_make(self):\n",
    "        return self.__make\n",
    "    \n",
    "    def get_model(self):\n",
    "        return self.__model\n",
    "    \n",
    "    def get_year(self):\n",
    "        return self.__year\n",
    "    \n",
    "    def set_make(self, make):\n",
    "        self.__make = make\n",
    "    \n",
    "    def set_model(self, model):\n",
    "        self.__model = model\n",
    "    \n",
    "    def set_year(self, year):\n",
    "        self.__year = year\n"
   ]
  },
  {
   "cell_type": "code",
   "execution_count": 7,
   "id": "b53284db",
   "metadata": {},
   "outputs": [
    {
     "name": "stdout",
     "output_type": "stream",
     "text": [
      "Toyota\n",
      "Camry\n"
     ]
    }
   ],
   "source": [
    "my_car = Car(\"Toyota\", \"Corolla\", 2021)\n",
    "print(my_car.get_make()) \n",
    "my_car.set_model(\"Camry\")\n",
    "print(my_car.get_model())  \n"
   ]
  },
  {
   "cell_type": "markdown",
   "id": "291a94f8",
   "metadata": {},
   "source": [
    "In this example, we are not able to access the private attributes directly (i.e., my_car._ _make would result in an error). Instead, we are using the public methods provided by the Car class to access and modify the private attributes. This protects the internal state of the Car object and allows us to change the implementation details without affecting the code that uses the Car class."
   ]
  },
  {
   "cell_type": "markdown",
   "id": "c0a8a970",
   "metadata": {},
   "source": [
    "## Inheritance"
   ]
  },
  {
   "cell_type": "code",
   "execution_count": 10,
   "id": "7d3d4622",
   "metadata": {},
   "outputs": [],
   "source": [
    "class Vehicle:\n",
    "    # Attributes\n",
    "    def __init__(self, make, model, year):\n",
    "        self.make = make\n",
    "        self.model = model\n",
    "        self.year = year\n",
    "    #Method\n",
    "    def get_description(self):\n",
    "        return f\"{self.year} {self.make} {self.model}\"\n",
    "    \n",
    "class Car(Vehicle):\n",
    "    def __init__(self, make, model, year, num_doors):\n",
    "        super().__init__(make, model, year)\n",
    "        self.num_doors = num_doors\n",
    "    \n",
    "    def get_description(self):\n",
    "        return f\"{super().get_description()}, {self.num_doors} doors\"\n"
   ]
  },
  {
   "cell_type": "markdown",
   "id": "71fef612",
   "metadata": {},
   "source": [
    "In this example, we have defined two classes: Vehicle and Car. The Vehicle class has three attributes (make, model, and year) and a method (get_description) that returns a string describing the vehicle. The Car class inherits from the Vehicle class and adds a new attribute (num_doors) and a modified version of the get_description method."
   ]
  },
  {
   "cell_type": "code",
   "execution_count": 11,
   "id": "498afa6f",
   "metadata": {},
   "outputs": [
    {
     "name": "stdout",
     "output_type": "stream",
     "text": [
      "2021 Toyota Corolla, 4 doors\n"
     ]
    }
   ],
   "source": [
    "my_car = Car(\"Toyota\", \"Corolla\", 2021, 4)\n",
    "print(my_car.get_description())  # Output: \"2021 Toyota Corolla, 4 doors\"\n"
   ]
  },
  {
   "cell_type": "markdown",
   "id": "d6de69c4",
   "metadata": {},
   "source": [
    "In this example, we are inheriting the make, model, and year attributes and the get_description method from the Vehicle class and adding a new num_doors attribute and a modified version of the get_description method in the Car class. "
   ]
  },
  {
   "cell_type": "markdown",
   "id": "58ac3bff",
   "metadata": {},
   "source": [
    "## Polymorphism"
   ]
  },
  {
   "cell_type": "markdown",
   "id": "bd7e0f19",
   "metadata": {},
   "source": [
    "Polymorphism is the ability of an object to take on multiple forms. In programming, this means that different objects can respond to the same message or method call in different ways."
   ]
  },
  {
   "cell_type": "markdown",
   "id": "63b6939c",
   "metadata": {},
   "source": [
    "For example, when we call len(\"hello\"), we get a result of 5, because the string \"hello\" has 5 characters. When we call len([1, 2, 3]), we get a result of 3, because the list [1, 2, 3] has 3 elements.\n",
    "\n",
    "Even though we are calling the same len() function, it is responding to the different objects in different ways."
   ]
  },
  {
   "cell_type": "code",
   "execution_count": 12,
   "id": "115755f1",
   "metadata": {},
   "outputs": [],
   "source": [
    "class Animal:\n",
    "    def make_sound(self):\n",
    "        pass\n",
    "    \n",
    "class Dog(Animal):\n",
    "    def make_sound(self):\n",
    "        return \"woof\"\n",
    "    \n",
    "class Cat(Animal):\n",
    "    def make_sound(self):\n",
    "        return \"meow\"\n"
   ]
  },
  {
   "cell_type": "markdown",
   "id": "0b205f03",
   "metadata": {},
   "source": [
    "In this example, we have an Animal class and two subclasses, Dog and Cat, each with their own implementation of the make_sound() method. When we call the make_sound() method on an instance of Dog, it will return \"woof\", and when we call it on an instance of Cat, it will return \"meow\". Even though we are calling the same method name, it is responding to the different objects in different ways, based on their class. "
   ]
  },
  {
   "cell_type": "code",
   "execution_count": null,
   "id": "b1dbc950",
   "metadata": {},
   "outputs": [],
   "source": []
  }
 ],
 "metadata": {
  "kernelspec": {
   "display_name": "Python 3 (ipykernel)",
   "language": "python",
   "name": "python3"
  },
  "language_info": {
   "codemirror_mode": {
    "name": "ipython",
    "version": 3
   },
   "file_extension": ".py",
   "mimetype": "text/x-python",
   "name": "python",
   "nbconvert_exporter": "python",
   "pygments_lexer": "ipython3",
   "version": "3.11.3"
  }
 },
 "nbformat": 4,
 "nbformat_minor": 5
}
